{
 "cells": [
  {
   "cell_type": "markdown",
   "id": "5c22245e",
   "metadata": {},
   "source": [
    "Variables: Assigning a value to a variable and a string. With print(), you can then output the variables."
   ]
  },
  {
   "cell_type": "code",
   "execution_count": 4,
   "id": "9d5b9e62",
   "metadata": {},
   "outputs": [],
   "source": [
    "#Integer\n",
    "\n",
    "a = 0\n",
    "\n",
    "a = int(0)\n",
    "\n",
    "#string\n",
    "\n",
    "s = 'Test'\n",
    "\n",
    "#Float\n",
    "\n",
    "p = 3.1415"
   ]
  },
  {
   "cell_type": "code",
   "execution_count": 5,
   "id": "339466ad",
   "metadata": {},
   "outputs": [
    {
     "name": "stdout",
     "output_type": "stream",
     "text": [
      "pi is more or less 3.1415\n"
     ]
    }
   ],
   "source": [
    "#Output with print(<VAR>)\n",
    "\n",
    "print ('pi is more or less {}'.format(p))"
   ]
  },
  {
   "cell_type": "markdown",
   "id": "208092d5",
   "metadata": {},
   "source": [
    "Try to create a list of ascending numbers from 1 to 10:"
   ]
  },
  {
   "cell_type": "code",
   "execution_count": 6,
   "id": "41f9239b",
   "metadata": {},
   "outputs": [],
   "source": [
    "#Liste\n"
   ]
  },
  {
   "cell_type": "markdown",
   "id": "a46f807d",
   "metadata": {},
   "source": [
    "Try to write a function, which sums up all the elements in the list:"
   ]
  },
  {
   "cell_type": "code",
   "execution_count": 8,
   "id": "38e998e5",
   "metadata": {},
   "outputs": [],
   "source": [
    "def sumAll(x):\n",
    "    result = 0\n",
    "    #define here the commands\n",
    "    #do something with x\n",
    "    return result\n",
    "\n",
    "res = sumAll([1,2,3,4])\n"
   ]
  },
  {
   "cell_type": "code",
   "execution_count": 9,
   "id": "f4a13eb2",
   "metadata": {},
   "outputs": [
    {
     "name": "stdout",
     "output_type": "stream",
     "text": [
      "0\n"
     ]
    }
   ],
   "source": [
    "print(res)"
   ]
  },
  {
   "cell_type": "code",
   "execution_count": null,
   "id": "779d64a9",
   "metadata": {},
   "outputs": [],
   "source": []
  }
 ],
 "metadata": {
  "kernelspec": {
   "display_name": "Python 3 (ipykernel)",
   "language": "python",
   "name": "python3"
  },
  "language_info": {
   "codemirror_mode": {
    "name": "ipython",
    "version": 3
   },
   "file_extension": ".py",
   "mimetype": "text/x-python",
   "name": "python",
   "nbconvert_exporter": "python",
   "pygments_lexer": "ipython3",
   "version": "3.10.12"
  }
 },
 "nbformat": 4,
 "nbformat_minor": 5
}
