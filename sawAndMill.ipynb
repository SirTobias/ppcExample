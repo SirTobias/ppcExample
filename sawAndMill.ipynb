{
 "cells": [
  {
   "cell_type": "markdown",
   "id": "db0594de",
   "metadata": {},
   "source": [
    "We start by importing SimPy as simulator"
   ]
  },
  {
   "cell_type": "code",
   "execution_count": 1,
   "id": "f7221cf6",
   "metadata": {},
   "outputs": [],
   "source": [
    "import simpy"
   ]
  },
  {
   "cell_type": "markdown",
   "id": "a4f40a14",
   "metadata": {},
   "source": [
    "We define our order list by"
   ]
  },
  {
   "cell_type": "code",
   "execution_count": 2,
   "id": "696337a9",
   "metadata": {},
   "outputs": [],
   "source": [
    "#order list [ [sawing time, milling time]]\n",
    "orders =     [ [4,3], \n",
    "               [8,4],\n",
    "               [3,7],\n",
    "               [5,6],\n",
    "               [6,2],\n",
    "               [3,7],\n",
    "               [7,2],\n",
    "               [5,1],\n",
    "             ]"
   ]
  },
  {
   "cell_type": "markdown",
   "id": "acbd7df3",
   "metadata": {},
   "source": [
    "Please note that sawing always has to come before milling for each order. Some variables to measure the performance:"
   ]
  },
  {
   "cell_type": "code",
   "execution_count": 3,
   "id": "12479868",
   "metadata": {},
   "outputs": [],
   "source": [
    "millDiff = 0 #collect idle times of the mill\n",
    "millStart = 0 #collect start time of milling\n",
    "millEnd = 0 #collect end time of milling "
   ]
  },
  {
   "cell_type": "markdown",
   "id": "998f87fb",
   "metadata": {},
   "source": [
    "We calculate a simple ordered sequence for the given list:"
   ]
  },
  {
   "cell_type": "code",
   "execution_count": 4,
   "id": "b9cd9379",
   "metadata": {},
   "outputs": [],
   "source": [
    "def calculateSimpleOrderForMachines(orderList):\n",
    "    execOrder = list()\n",
    "    for i in range(len(orderList)):\n",
    "        execOrder.append(i)\n",
    "    return execOrder"
   ]
  },
  {
   "cell_type": "markdown",
   "id": "74780b80",
   "metadata": {},
   "source": [
    "The orders are executed"
   ]
  },
  {
   "cell_type": "code",
   "execution_count": 5,
   "id": "a07720f2",
   "metadata": {},
   "outputs": [],
   "source": [
    "def runOrders(env, orderToDo, saw, mill):\n",
    "    print('t: {} order {} arrives'.format(env.now, orderToDo))\n",
    "    with saw.request() as reqSaw:\n",
    "        yield reqSaw\n",
    "        #execute order with saw\n",
    "        print('t: {}: order {} start sawing'.format(env.now, orderToDo))\n",
    "        yield env.timeout(orderToDo[0])\n",
    "        print('t: {}: order{} finished sawing'.format(env.now, orderToDo))\n",
    "    with mill.request() as reqMill:\n",
    "        yield reqMill\n",
    "        print('t: {}: order {} start milling'.format(env.now, orderToDo))\n",
    "        global millDiff\n",
    "        global millStart\n",
    "        global millEnd\n",
    "        millStart = env.now\n",
    "        millDiff = millDiff + (millStart - millEnd)\n",
    "        yield env.timeout(orderToDo[1])\n",
    "        print('t: {}: order{} finished milling'.format(env.now, orderToDo))\n",
    "        millEnd = env.now"
   ]
  },
  {
   "cell_type": "markdown",
   "id": "77464bfc",
   "metadata": {},
   "source": [
    "Simulation environment with capacitated resources is initialised:"
   ]
  },
  {
   "cell_type": "code",
   "execution_count": 6,
   "id": "0a9f3ce6",
   "metadata": {},
   "outputs": [],
   "source": [
    "env = simpy.Environment()\n",
    "mill = simpy.Resource(env, capacity=1)\n",
    "saw = simpy.Resource(env, capacity=1)"
   ]
  },
  {
   "cell_type": "markdown",
   "id": "d2e86abd",
   "metadata": {},
   "source": [
    "Execution sequence is calculated for the order list, here, e.g., simply ascending."
   ]
  },
  {
   "cell_type": "code",
   "execution_count": 7,
   "id": "de9ef459",
   "metadata": {},
   "outputs": [],
   "source": [
    "orderedSet = calculateSimpleOrderForMachines(orders)"
   ]
  },
  {
   "cell_type": "markdown",
   "id": "56b15577",
   "metadata": {},
   "source": [
    "Simulation is initalised with the orders:"
   ]
  },
  {
   "cell_type": "code",
   "execution_count": 8,
   "id": "b3a7415a",
   "metadata": {},
   "outputs": [],
   "source": [
    "for i in range(len(orders)):\n",
    "    env.process(runOrders(env, orders[orderedSet[i]], saw, mill))"
   ]
  },
  {
   "cell_type": "markdown",
   "id": "64d40381",
   "metadata": {},
   "source": [
    "Run and print result:"
   ]
  },
  {
   "cell_type": "code",
   "execution_count": 9,
   "id": "850d851c",
   "metadata": {},
   "outputs": [
    {
     "name": "stdout",
     "output_type": "stream",
     "text": [
      "t: 0 order [4, 3] arrives\n",
      "t: 0 order [8, 4] arrives\n",
      "t: 0 order [3, 7] arrives\n",
      "t: 0 order [5, 6] arrives\n",
      "t: 0 order [6, 2] arrives\n",
      "t: 0 order [3, 7] arrives\n",
      "t: 0 order [7, 2] arrives\n",
      "t: 0 order [5, 1] arrives\n",
      "t: 0: order [4, 3] start sawing\n",
      "t: 4: order[4, 3] finished sawing\n",
      "t: 4: order [4, 3] start milling\n",
      "t: 4: order [8, 4] start sawing\n",
      "t: 7: order[4, 3] finished milling\n",
      "t: 12: order[8, 4] finished sawing\n",
      "t: 12: order [8, 4] start milling\n",
      "t: 12: order [3, 7] start sawing\n",
      "t: 15: order[3, 7] finished sawing\n",
      "t: 15: order [5, 6] start sawing\n",
      "t: 16: order[8, 4] finished milling\n",
      "t: 16: order [3, 7] start milling\n",
      "t: 20: order[5, 6] finished sawing\n",
      "t: 20: order [6, 2] start sawing\n",
      "t: 23: order[3, 7] finished milling\n",
      "t: 23: order [5, 6] start milling\n",
      "t: 26: order[6, 2] finished sawing\n",
      "t: 26: order [3, 7] start sawing\n",
      "t: 29: order[5, 6] finished milling\n",
      "t: 29: order[3, 7] finished sawing\n",
      "t: 29: order [6, 2] start milling\n",
      "t: 29: order [7, 2] start sawing\n",
      "t: 31: order[6, 2] finished milling\n",
      "t: 31: order [3, 7] start milling\n",
      "t: 36: order[7, 2] finished sawing\n",
      "t: 36: order [5, 1] start sawing\n",
      "t: 38: order[3, 7] finished milling\n",
      "t: 38: order [7, 2] start milling\n",
      "t: 40: order[7, 2] finished milling\n",
      "t: 41: order[5, 1] finished sawing\n",
      "t: 41: order [5, 1] start milling\n",
      "t: 42: order[5, 1] finished milling\n",
      "mill idle time: 10\n"
     ]
    }
   ],
   "source": [
    "env.run()\n",
    "\n",
    "print('mill idle time: {}'.format(millDiff))"
   ]
  }
 ],
 "metadata": {
  "kernelspec": {
   "display_name": "Python 3 (ipykernel)",
   "language": "python",
   "name": "python3"
  },
  "language_info": {
   "codemirror_mode": {
    "name": "ipython",
    "version": 3
   },
   "file_extension": ".py",
   "mimetype": "text/x-python",
   "name": "python",
   "nbconvert_exporter": "python",
   "pygments_lexer": "ipython3",
   "version": "3.10.12"
  }
 },
 "nbformat": 4,
 "nbformat_minor": 5
}
