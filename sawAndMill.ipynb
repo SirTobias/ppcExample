{
 "cells": [
  {
   "cell_type": "markdown",
   "id": "db0594de",
   "metadata": {},
   "source": [
    "We start by importing SimPy as simulator"
   ]
  },
  {
   "cell_type": "code",
   "execution_count": 19,
   "id": "f7221cf6",
   "metadata": {
    "tags": []
   },
   "outputs": [],
   "source": [
    "import simpy\n",
    "from collections import defaultdict"
   ]
  },
  {
   "cell_type": "markdown",
   "id": "a4f40a14",
   "metadata": {},
   "source": [
    "We define our order list by"
   ]
  },
  {
   "cell_type": "code",
   "execution_count": 20,
   "id": "696337a9",
   "metadata": {
    "tags": []
   },
   "outputs": [],
   "source": [
    "#order list [ [sawing time, milling time]]\n",
    "orders =     [ [4,3], \n",
    "               [8,4],\n",
    "               [3,7],\n",
    "               [5,6],\n",
    "               [6,2],\n",
    "               [3,7],\n",
    "               [7,2],\n",
    "               [5,1],\n",
    "             ]"
   ]
  },
  {
   "cell_type": "markdown",
   "id": "acbd7df3",
   "metadata": {},
   "source": [
    "Please note that sawing always has to come before milling for each order. Some variables to measure the performance:"
   ]
  },
  {
   "cell_type": "code",
   "execution_count": 21,
   "id": "12479868",
   "metadata": {
    "tags": []
   },
   "outputs": [],
   "source": [
    "millDiff = 0 #collect idle times of the mill\n",
    "millStart = 0 #collect start time of milling\n",
    "millEnd = 0 #collect end time of milling "
   ]
  },
  {
   "cell_type": "markdown",
   "id": "998f87fb",
   "metadata": {},
   "source": [
    "We calculate a simple ordered sequence for the given list:"
   ]
  },
  {
   "cell_type": "code",
   "execution_count": 22,
   "id": "b9cd9379",
   "metadata": {
    "tags": []
   },
   "outputs": [],
   "source": [
    "def calculateSimpleOrderForMachines(orderList):\n",
    "    execOrder = list()\n",
    "    for i in range(len(orderList)):\n",
    "        execOrder.append(i)\n",
    "    return execOrder"
   ]
  },
  {
   "cell_type": "markdown",
   "id": "74780b80",
   "metadata": {},
   "source": [
    "Another option is to sort after the shortest lead time: min(processing_time(saw) + processing_time(mill))"
   ]
  },
  {
   "cell_type": "code",
   "execution_count": 23,
   "id": "6904b4d7-262b-490b-8a77-b936644e8179",
   "metadata": {
    "tags": []
   },
   "outputs": [],
   "source": [
    "#shortest lead time/processing time over sawing and milling\n",
    "def calculateShortestLeadTime(orderList):\n",
    "    lead_times = defaultdict(list)\n",
    "    #sum up the leadtimes\n",
    "    for i in range(len(orderList)):\n",
    "        lead_time = orderList[i][0] + orderList[i][1]\n",
    "        lead_times[lead_time].append(i)\n",
    "    #sort the lead_times\n",
    "    sorted_lead_times = sorted(lead_times.items())\n",
    "    sorted_order_list = list()\n",
    "    #get out the values of the leadtime keys\n",
    "    for key, value in sorted_lead_times:\n",
    "        for i in range(len(value)):\n",
    "            sorted_order_list.append(value[i])\n",
    "    return sorted_order_list"
   ]
  },
  {
   "cell_type": "markdown",
   "id": "63483844-aeaf-46ca-81ce-3f0333631e8d",
   "metadata": {},
   "source": [
    "The orders are then executed in this function, saw and mill are resources with limited capacities."
   ]
  },
  {
   "cell_type": "code",
   "execution_count": 24,
   "id": "a07720f2",
   "metadata": {
    "tags": []
   },
   "outputs": [],
   "source": [
    "def runOrders(env, orderToDo, saw, mill):\n",
    "    print('t: {} order {} arrives'.format(env.now, orderToDo))\n",
    "    with saw.request() as reqSaw:\n",
    "        yield reqSaw\n",
    "        #execute order with saw\n",
    "        print('t: {}: order {} start sawing'.format(env.now, orderToDo))\n",
    "        yield env.timeout(orderToDo[0])\n",
    "        print('t: {}: order{} finished sawing'.format(env.now, orderToDo))\n",
    "    with mill.request() as reqMill:\n",
    "        yield reqMill\n",
    "        print('t: {}: order {} start milling'.format(env.now, orderToDo))\n",
    "        global millDiff\n",
    "        global millStart\n",
    "        global millEnd\n",
    "        millStart = env.now\n",
    "        millDiff = millDiff + (millStart - millEnd)\n",
    "        yield env.timeout(orderToDo[1])\n",
    "        print('t: {}: order{} finished milling'.format(env.now, orderToDo))\n",
    "        millEnd = env.now"
   ]
  },
  {
   "cell_type": "markdown",
   "id": "77464bfc",
   "metadata": {},
   "source": [
    "Simulation environment with capacitated resources is initialised:"
   ]
  },
  {
   "cell_type": "code",
   "execution_count": 25,
   "id": "0a9f3ce6",
   "metadata": {
    "tags": []
   },
   "outputs": [],
   "source": [
    "env = simpy.Environment()\n",
    "mill = simpy.Resource(env, capacity=1)\n",
    "saw = simpy.Resource(env, capacity=1)"
   ]
  },
  {
   "cell_type": "markdown",
   "id": "d2e86abd",
   "metadata": {},
   "source": [
    "Execution sequence is calculated for the order list, here, e.g., simply ascending."
   ]
  },
  {
   "cell_type": "code",
   "execution_count": 26,
   "id": "de9ef459",
   "metadata": {
    "tags": []
   },
   "outputs": [],
   "source": [
    "#orderedSet = calculateSimpleOrderForMachines(orders) #justd as it arrives\n",
    "orderedSet = calculateShortestLeadTime(orders) # or using overall shortest lead time"
   ]
  },
  {
   "cell_type": "markdown",
   "id": "56b15577",
   "metadata": {},
   "source": [
    "Simulation is initalised with the orders:"
   ]
  },
  {
   "cell_type": "code",
   "execution_count": 27,
   "id": "b3a7415a",
   "metadata": {
    "tags": []
   },
   "outputs": [],
   "source": [
    "millDiff = 0 #collect idle times of the mill\n",
    "millStart = 0 #collect start time of milling\n",
    "millEnd = 0 #collect end time of milling \n",
    "for i in range(len(orders)):\n",
    "    env.process(runOrders(env, orders[orderedSet[i]], saw, mill))"
   ]
  },
  {
   "cell_type": "markdown",
   "id": "64d40381",
   "metadata": {},
   "source": [
    "Run and print result:"
   ]
  },
  {
   "cell_type": "code",
   "execution_count": 28,
   "id": "850d851c",
   "metadata": {
    "tags": []
   },
   "outputs": [
    {
     "name": "stdout",
     "output_type": "stream",
     "text": [
      "t: 0 order [5, 1] arrives\n",
      "t: 0 order [4, 3] arrives\n",
      "t: 0 order [6, 2] arrives\n",
      "t: 0 order [7, 2] arrives\n",
      "t: 0 order [3, 7] arrives\n",
      "t: 0 order [3, 7] arrives\n",
      "t: 0 order [5, 6] arrives\n",
      "t: 0 order [8, 4] arrives\n",
      "t: 0: order [5, 1] start sawing\n",
      "t: 5: order[5, 1] finished sawing\n",
      "t: 5: order [5, 1] start milling\n",
      "t: 5: order [4, 3] start sawing\n",
      "t: 6: order[5, 1] finished milling\n",
      "t: 9: order[4, 3] finished sawing\n",
      "t: 9: order [4, 3] start milling\n",
      "t: 9: order [6, 2] start sawing\n",
      "t: 12: order[4, 3] finished milling\n",
      "t: 15: order[6, 2] finished sawing\n",
      "t: 15: order [6, 2] start milling\n",
      "t: 15: order [7, 2] start sawing\n",
      "t: 17: order[6, 2] finished milling\n",
      "t: 22: order[7, 2] finished sawing\n",
      "t: 22: order [7, 2] start milling\n",
      "t: 22: order [3, 7] start sawing\n",
      "t: 24: order[7, 2] finished milling\n",
      "t: 25: order[3, 7] finished sawing\n",
      "t: 25: order [3, 7] start milling\n",
      "t: 25: order [3, 7] start sawing\n",
      "t: 28: order[3, 7] finished sawing\n",
      "t: 28: order [5, 6] start sawing\n",
      "t: 32: order[3, 7] finished milling\n",
      "t: 32: order [3, 7] start milling\n",
      "t: 33: order[5, 6] finished sawing\n",
      "t: 33: order [8, 4] start sawing\n",
      "t: 39: order[3, 7] finished milling\n",
      "t: 39: order [5, 6] start milling\n",
      "t: 41: order[8, 4] finished sawing\n",
      "t: 45: order[5, 6] finished milling\n",
      "t: 45: order [8, 4] start milling\n",
      "t: 49: order[8, 4] finished milling\n",
      "mill idle time: 17\n"
     ]
    }
   ],
   "source": [
    "env.run()\n",
    "\n",
    "print('mill idle time: {}'.format(millDiff))"
   ]
  },
  {
   "cell_type": "code",
   "execution_count": null,
   "id": "00112e7a-8fc9-4f9e-bade-d63ddb01e85c",
   "metadata": {},
   "outputs": [],
   "source": []
  }
 ],
 "metadata": {
  "kernelspec": {
   "display_name": "Python 3 (ipykernel)",
   "language": "python",
   "name": "python3"
  },
  "language_info": {
   "codemirror_mode": {
    "name": "ipython",
    "version": 3
   },
   "file_extension": ".py",
   "mimetype": "text/x-python",
   "name": "python",
   "nbconvert_exporter": "python",
   "pygments_lexer": "ipython3",
   "version": "3.10.11"
  }
 },
 "nbformat": 4,
 "nbformat_minor": 5
}
