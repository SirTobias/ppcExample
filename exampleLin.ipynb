{
 "cells": [
  {
   "cell_type": "code",
   "execution_count": 2,
   "id": "49dbc73e",
   "metadata": {},
   "outputs": [],
   "source": [
    "#Wir importieren den Solver aus der SciPy-Bibliothek:\n",
    "from scipy.optimize import linprog\n"
   ]
  },
  {
   "cell_type": "markdown",
   "id": "ac5ba836",
   "metadata": {},
   "source": [
    "Wir definieren die Zielfunktion mit den Entscheidungsvariablen und Kostenkoeffizienten:"
   ]
  },
  {
   "cell_type": "code",
   "execution_count": 3,
   "id": "b54fc334",
   "metadata": {},
   "outputs": [],
   "source": [
    "#Zielfunktion\n",
    "obj = [-35, -45, -65] #%x_s: Stühle, x_t: Tische, x_b: Bänke"
   ]
  },
  {
   "cell_type": "markdown",
   "id": "4e114379",
   "metadata": {},
   "source": [
    "Wir definieren die Nebenbedingungen (Ungleichbedingungen) der linken Seite:"
   ]
  },
  {
   "cell_type": "code",
   "execution_count": 4,
   "id": "f63400d4",
   "metadata": {},
   "outputs": [],
   "source": [
    "lhs_ineq = [[ 3.5,  6,  8],  # Arbeitszeit Maschine 1\n",
    "            [   4,  5,  6],  # Arbeitszeit Maschine 2\n",
    "            [  11, 15, 20],  # Arbeitszeit Personal\n",
    "            [  -1,  -1, 1]]  # Produktkonfiguration"
   ]
  },
  {
   "cell_type": "markdown",
   "id": "c07ded21",
   "metadata": {},
   "source": [
    "Wir definieren die Nebenbedingungen (zur Verfügung stehende Ressourcen) der rechten Seite:"
   ]
  },
  {
   "cell_type": "code",
   "execution_count": 5,
   "id": "37eb77c6",
   "metadata": {},
   "outputs": [],
   "source": [
    "rhs_ineq = [120,  # max. Laufzeit Maschine 1\n",
    "            100,  # max. Laufzeit Maschine 2\n",
    "            280,  # max. Arbeitszeit\n",
    "              0]  # Beschränkung max. Hälfte der Tische von Gesamtprod."
   ]
  },
  {
   "cell_type": "markdown",
   "id": "eb404242",
   "metadata": {},
   "source": [
    "Wir definieren die Gleichheitsbeschränkungen (im Zweifel leer lassen):"
   ]
  },
  {
   "cell_type": "code",
   "execution_count": 9,
   "id": "75a9c83a",
   "metadata": {},
   "outputs": [],
   "source": [
    "#Gleichheitsbeschränkungen (nicht nötig)\n",
    "lhs_eq = [] \n",
    "rhs_eq = [] "
   ]
  },
  {
   "cell_type": "markdown",
   "id": "5d374325",
   "metadata": {},
   "source": [
    "Wir definieren die Grenzen der Entscheidungsvariablen:"
   ]
  },
  {
   "cell_type": "code",
   "execution_count": 10,
   "id": "c78efb16",
   "metadata": {},
   "outputs": [],
   "source": [
    "bnd = [(0, None),  # Wertemenge x_s\n",
    "       (0, None),  # Wertemenge x_t\n",
    "       (0, None)]  # Wertemenge s_b"
   ]
  },
  {
   "cell_type": "markdown",
   "id": "716b79c3",
   "metadata": {},
   "source": [
    "Wir rufen den Solver Linprog auf:"
   ]
  },
  {
   "cell_type": "code",
   "execution_count": 11,
   "id": "009f61a1",
   "metadata": {},
   "outputs": [],
   "source": [
    "opt = linprog(c=obj, A_ub=lhs_ineq, b_ub=rhs_ineq, A_eq=None, b_eq=None,\n",
    "              bounds=bnd)"
   ]
  },
  {
   "cell_type": "markdown",
   "id": "3949b2ad",
   "metadata": {},
   "source": [
    "Wir lassen uns die Ergebnisse ausgeben:"
   ]
  },
  {
   "cell_type": "code",
   "execution_count": 12,
   "id": "7b050d49",
   "metadata": {},
   "outputs": [
    {
     "name": "stdout",
     "output_type": "stream",
     "text": [
      "-903.2258064516128\n",
      "Decision Variables: ['9.032', '0.000', '9.032']\n",
      "Optimization terminated successfully. (HiGHS Status 7: Optimal)\n"
     ]
    }
   ],
   "source": [
    "print (opt.fun)\n",
    "formattedList = [\"%.3f\" % member for member in opt.x]\n",
    "print (f\"Decision Variables: {formattedList}\")\n",
    "#print (opt.x)\n",
    "print (opt.message)"
   ]
  },
  {
   "cell_type": "markdown",
   "id": "398c8500",
   "metadata": {},
   "source": [
    "Wie bekommen wir die Ganzzahligkeit in das Problem?\n",
    "Tipp: https://docs.scipy.org/doc/scipy/reference/generated/scipy.optimize.linprog.html#scipy.optimize.linprog"
   ]
  }
 ],
 "metadata": {
  "kernelspec": {
   "display_name": "Python 3 (Spyder)",
   "language": "python3",
   "name": "python3"
  },
  "language_info": {
   "codemirror_mode": {
    "name": "ipython",
    "version": 3
   },
   "file_extension": ".py",
   "mimetype": "text/x-python",
   "name": "python",
   "nbconvert_exporter": "python",
   "pygments_lexer": "ipython3",
   "version": "3.9.12"
  }
 },
 "nbformat": 4,
 "nbformat_minor": 5
}
