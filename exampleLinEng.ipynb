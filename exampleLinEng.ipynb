{
 "cells": [
  {
   "cell_type": "code",
   "execution_count": 1,
   "id": "49dbc73e",
   "metadata": {},
   "outputs": [],
   "source": [
    "#We import the solver from the SciPy library:\n",
    "from scipy.optimize import linprog\n"
   ]
  },
  {
   "cell_type": "markdown",
   "id": "ac5ba836",
   "metadata": {},
   "source": [
    "# We define the objective function with decision variables and cost coefficients:"
   ]
  },
  {
   "cell_type": "code",
   "execution_count": 2,
   "id": "b54fc334",
   "metadata": {},
   "outputs": [],
   "source": [
    "#Objective\n",
    "obj = [-35, -45, -65] #%x_s: chairs, x_t: tables, x_b: benches"
   ]
  },
  {
   "cell_type": "markdown",
   "id": "4e114379",
   "metadata": {},
   "source": [
    "#We define the left-hand side inequalities (constraints):"
   ]
  },
  {
   "cell_type": "code",
   "execution_count": 3,
   "id": "f63400d4",
   "metadata": {},
   "outputs": [],
   "source": [
    "lhs_ineq = [[ 3.5,  6,  8],  # Machine 1 working hours\n",
    "            [   4,  5,  6],  # Machine 2 working hours\n",
    "            [  11, 15, 20],  # Labor hours\n",
    "            [  -1,  -1, 1]]  # Product configuration]"
   ]
  },
  {
   "cell_type": "markdown",
   "id": "c07ded21",
   "metadata": {},
   "source": [
    "We define the right-hand side inequalities (available resources):"
   ]
  },
  {
   "cell_type": "code",
   "execution_count": 4,
   "id": "37eb77c6",
   "metadata": {},
   "outputs": [],
   "source": [
    "rhs_ineq = [120,  # Maximum runtime of Machine 1\n",
    "            100,  # Maximum runtime of Machine 2\n",
    "            280,  # Maximum labor hours\n",
    "              0]  # Limitation on the maximum number of tables as a fraction of total production"
   ]
  },
  {
   "cell_type": "markdown",
   "id": "eb404242",
   "metadata": {},
   "source": [
    "# We define equality constraints (leave empty if not needed):"
   ]
  },
  {
   "cell_type": "code",
   "execution_count": 5,
   "id": "75a9c83a",
   "metadata": {},
   "outputs": [],
   "source": [
    "#equality constraints (not necessary here)\n",
    "lhs_eq = [] \n",
    "rhs_eq = [] "
   ]
  },
  {
   "cell_type": "markdown",
   "id": "5d374325",
   "metadata": {},
   "source": [
    "We define the bounds of decision variables:"
   ]
  },
  {
   "cell_type": "code",
   "execution_count": 6,
   "id": "c78efb16",
   "metadata": {},
   "outputs": [],
   "source": [
    "bnd = [(0, None),  #  Range of values for x_s (Chairs)\n",
    "       (0, None),  # Range of values for x_t (Tables)\n",
    "       (0, None)]  # Range of values for x_b (Benches)"
   ]
  },
  {
   "cell_type": "markdown",
   "id": "716b79c3",
   "metadata": {},
   "source": [
    "# We call the Linprog solver:"
   ]
  },
  {
   "cell_type": "code",
   "execution_count": 7,
   "id": "009f61a1",
   "metadata": {},
   "outputs": [],
   "source": [
    "opt = linprog(c=obj, A_ub=lhs_ineq, b_ub=rhs_ineq, A_eq=None, b_eq=None,\n",
    "              bounds=bnd)"
   ]
  },
  {
   "cell_type": "markdown",
   "id": "3949b2ad",
   "metadata": {},
   "source": [
    "#We print the results:"
   ]
  },
  {
   "cell_type": "code",
   "execution_count": 9,
   "id": "7b050d49",
   "metadata": {},
   "outputs": [
    {
     "name": "stdout",
     "output_type": "stream",
     "text": [
      "-903.2258064439785\n",
      "Decision Variables: ['9.032', '0.000', '9.032']\n",
      "Optimization terminated successfully.\n"
     ]
    }
   ],
   "source": [
    "print (opt.fun)\n",
    "formattedList = [\"%.3f\" % member for member in opt.x]\n",
    "print (f\"Decision Variables: {formattedList}\")\n",
    "#print (opt.x)\n",
    "print (opt.message)"
   ]
  },
  {
   "cell_type": "markdown",
   "id": "398c8500",
   "metadata": {},
   "source": [
    "How we get the integer constraints into the problem?\n",
    "Hint: https://docs.scipy.org/doc/scipy/reference/generated/scipy.optimize.linprog.html#scipy.optimize.linprog"
   ]
  },
  {
   "cell_type": "code",
   "execution_count": null,
   "id": "66a46f81",
   "metadata": {},
   "outputs": [],
   "source": []
  }
 ],
 "metadata": {
  "kernelspec": {
   "display_name": "Python 3 (ipykernel)",
   "language": "python",
   "name": "python3"
  },
  "language_info": {
   "codemirror_mode": {
    "name": "ipython",
    "version": 3
   },
   "file_extension": ".py",
   "mimetype": "text/x-python",
   "name": "python",
   "nbconvert_exporter": "python",
   "pygments_lexer": "ipython3",
   "version": "3.10.12"
  }
 },
 "nbformat": 4,
 "nbformat_minor": 5
}
