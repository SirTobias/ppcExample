{
 "cells": [
  {
   "cell_type": "markdown",
   "id": "5c22245e",
   "metadata": {},
   "source": [
    "Variablen: Versuche, einer Variable und eine Zeichenkette zuzuweisen. Mit print(<VAR>) kannst Du dann Dir die Variablen ausgeben lassen:"
   ]
  },
  {
   "cell_type": "code",
   "execution_count": 2,
   "id": "9d5b9e62",
   "metadata": {},
   "outputs": [
    {
     "name": "stdout",
     "output_type": "stream",
     "text": [
      "0\n"
     ]
    }
   ],
   "source": [
    "#Integer\n",
    "\n",
    "\n",
    "#Zeichenkette\n",
    "\n",
    "#Float"
   ]
  },
  {
   "cell_type": "code",
   "execution_count": null,
   "id": "339466ad",
   "metadata": {},
   "outputs": [],
   "source": [
    "#Ausgabe nun mit print(<VAR>)\n"
   ]
  },
  {
   "cell_type": "markdown",
   "id": "208092d5",
   "metadata": {},
   "source": [
    "Versuche, eine Liste mit aufsteigenden Zahlen von 1-10 zu erzeugen:"
   ]
  },
  {
   "cell_type": "code",
   "execution_count": null,
   "id": "41f9239b",
   "metadata": {},
   "outputs": [],
   "source": [
    "#Liste"
   ]
  },
  {
   "cell_type": "markdown",
   "id": "a46f807d",
   "metadata": {},
   "source": [
    "Versuche, eine Funktion zu schreiben, die die Zahlen einer Liste aufsummiert."
   ]
  },
  {
   "cell_type": "code",
   "execution_count": 4,
   "id": "38e998e5",
   "metadata": {},
   "outputs": [],
   "source": [
    "def sumAll(x):\n",
    "   #define here the commands\n",
    "\n",
    "res = sumAll([1,2,3,4])\n"
   ]
  },
  {
   "cell_type": "code",
   "execution_count": 5,
   "id": "f4a13eb2",
   "metadata": {},
   "outputs": [
    {
     "name": "stdout",
     "output_type": "stream",
     "text": [
      "24\n"
     ]
    }
   ],
   "source": [
    "print(res)"
   ]
  },
  {
   "cell_type": "code",
   "execution_count": null,
   "id": "779d64a9",
   "metadata": {},
   "outputs": [],
   "source": []
  }
 ],
 "metadata": {
  "kernelspec": {
   "display_name": "Python 3 (Spyder)",
   "language": "python3",
   "name": "python3"
  },
  "language_info": {
   "codemirror_mode": {
    "name": "ipython",
    "version": 3
   },
   "file_extension": ".py",
   "mimetype": "text/x-python",
   "name": "python",
   "nbconvert_exporter": "python",
   "pygments_lexer": "ipython3",
   "version": "3.9.12"
  }
 },
 "nbformat": 4,
 "nbformat_minor": 5
}
